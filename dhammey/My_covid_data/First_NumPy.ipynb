{
 "cells": [
  {
   "cell_type": "code",
   "execution_count": 1,
   "metadata": {},
   "outputs": [],
   "source": [
    "import numpy as np"
   ]
  },
  {
   "cell_type": "markdown",
   "metadata": {},
   "source": [
    "# THE ASSIGNMENT STARTS HERE... PLEASE KINDLY UNCOMMENT EACH CELL TO RUN CODES"
   ]
  },
  {
   "cell_type": "markdown",
   "metadata": {},
   "source": [
    "### HERE, THE SALES.CSV FILE IS OPENED"
   ]
  },
  {
   "cell_type": "code",
   "execution_count": 12,
   "metadata": {},
   "outputs": [
    {
     "data": {
      "text/plain": [
       "array([[ 923,  631,  935,  371,  756, 3166,  114],\n",
       "       [ 918,  626,  930,  366,  751, 3161,  109],\n",
       "       [ 497,  305,  403,  239,  434,  824,   67],\n",
       "       [ 499,  307,  405,  241,  436,  826,   69],\n",
       "       [ 501,  309,  407,  243,  438,  828,   71],\n",
       "       [ 503,  311,  409,  245,  440,  830,   73],\n",
       "       [ 505,  313,  411,  247,  442,  832,   75],\n",
       "       [ 507,  315,  413,  249,  444,  834,   77],\n",
       "       [ 509,  317,  415,  251,  446,  836,   79],\n",
       "       [ 511,  319,  417,  253,  448,  838,   81],\n",
       "       [ 513,  321,  419,  255,  450,  840,   83],\n",
       "       [ 515,  323,  421,  257,  452,  842,   85],\n",
       "       [ 517,  325,  423,  259,  454,  844,   87],\n",
       "       [ 519,  327,  425,  261,  456,  846,   89],\n",
       "       [ 521,  329,  427,  263,  458,  848,   91],\n",
       "       [ 523,  331,  429,  265,  460,  850,   93],\n",
       "       [ 525,  333,  431,  267,  462,  852,   95],\n",
       "       [ 550,  360,  450,  283,  397, 1200,   30],\n",
       "       [ 550,  360,  450,  283,  397, 1200,   30],\n",
       "       [ 550,  360,  450,  283,  397, 1200,   30],\n",
       "       [ 550,  360,  450,  283,  397, 1200,   30],\n",
       "       [ 550,  360,  450,  283,  397, 1200,   30],\n",
       "       [ 550,  360,  450,  283,  397, 1200,   30],\n",
       "       [ 550,  360,  450,  283,  397, 1200,   30],\n",
       "       [ 550,  360,  450,  283,  397, 1200,   90],\n",
       "       [ 540,  350,  440,  273,  387, 1190,   90],\n",
       "       [ 530,  340,  430,  263,  377, 1180,   90],\n",
       "       [ 520,  330,  420,  253,  367, 1170,   90],\n",
       "       [ 510,  320,  410,  243,  357, 1160,   90],\n",
       "       [ 500,  310,  400,  233,  347, 1150,   90],\n",
       "       [ 490,  300,  390,  223,  337, 1140,   90],\n",
       "       [ 480,  290,  380,  213,  327, 1130,   90],\n",
       "       [ 470,  280,  370,  203,  317, 1120,   90],\n",
       "       [ 460,  270,  360,  193,  307, 1110,   90],\n",
       "       [ 450,  260,  350,  183,  297, 1100,   90],\n",
       "       [ 440,  250,  340,  173,  287, 1090,   90],\n",
       "       [ 430,  240,  330,  163,  281, 1085,   90],\n",
       "       [ 420,  230,  320,  153,  275, 1080,   90],\n",
       "       [ 410,  220,  310,  143,  269, 1075,   90],\n",
       "       [ 400,  210,  300,  133,  263, 1070,   90],\n",
       "       [ 390,  200,  290,  123,  257, 1065,   90],\n",
       "       [ 380,  190,  280,  113,  251, 1060,   90],\n",
       "       [ 570,  285,  420,  170,  245, 1055,  135],\n",
       "       [ 855,  428,  630,  254,  239, 1050,  203],\n",
       "       [1283,  641,  945,  381,  233, 1045,  304],\n",
       "       [1183,  641,  945,  381,  227, 3426,  274],\n",
       "       [1133,  641,  945,  381,  221, 3376,  244],\n",
       "       [1083,  641,  945,  381,  215, 3326,  214],\n",
       "       [1033,  641,  945,  381,  766, 3276,  184],\n",
       "       [ 983,  641,  945,  381,  766, 3226,  154],\n",
       "       [ 933,  641,  945,  381,  766, 3176,  124],\n",
       "       [ 928,  636,  940,  376,  761, 3171,  119],\n",
       "       [ 923,  631,  935,  371,  756, 3166,  114],\n",
       "       [ 918,  626,  930,  366,  751, 3161,  109],\n",
       "       [ 612,  421,  800,  200,  150, 2000,   65],\n",
       "       [ 607,  416,  795,  195,  145, 1995,   60],\n",
       "       [ 602,  411,  790,  190,  140, 1990,   55],\n",
       "       [ 597,  406,  785,  185,  135, 1985,   50],\n",
       "       [ 592,  401,  780,  180,  130, 1980,   45],\n",
       "       [ 587,  396,  775,  175,  125, 1975,   40],\n",
       "       [ 582,  391,  770,  170,  120, 1970,   35],\n",
       "       [ 501,  309,  407,  243,  438,  828,   71],\n",
       "       [ 503,  311,  409,  245,  440,  830,   73],\n",
       "       [ 505,  313,  411,  247,  442,  832,   75],\n",
       "       [ 507,  315,  413,  249,  444,  834,   77],\n",
       "       [ 509,  317,  415,  251,  446,  836,   79],\n",
       "       [ 511,  319,  417,  253,  448,  838,   81],\n",
       "       [ 513,  321,  419,  255,  450,  840,   83],\n",
       "       [ 515,  323,  421,  257,  452,  842,   85],\n",
       "       [ 517,  325,  423,  259,  454,  844,   87],\n",
       "       [ 519,  327,  425,  261,  456,  846,   89],\n",
       "       [ 521,  329,  427,  263,  458,  848,   91],\n",
       "       [ 523,  331,  429,  265,  460,  850,   93],\n",
       "       [ 525,  333,  431,  267,  462,  852,   95],\n",
       "       [ 550,  360,  450,  283,  397, 1200,   30],\n",
       "       [ 550,  360,  450,  283,  397, 1200,   30],\n",
       "       [ 550,  360,  450,  283,  397, 1200,   30],\n",
       "       [ 550,  360,  450,  283,  397, 1200,   30],\n",
       "       [ 550,  360,  450,  283,  397, 1200,   30],\n",
       "       [ 550,  360,  450,  283,  397, 1200,   30],\n",
       "       [ 550,  360,  450,  283,  397, 1200,   30],\n",
       "       [ 550,  360,  450,  283,  397, 1200,   90],\n",
       "       [ 540,  350,  440,  273,  387, 1190,   90],\n",
       "       [ 530,  340,  430,  263,  377, 1180,   90],\n",
       "       [ 520,  330,  420,  253,  367, 1170,   90],\n",
       "       [ 510,  320,  410,  243,  357, 1160,   90],\n",
       "       [ 500,  310,  400,  233,  347, 1150,   90],\n",
       "       [ 490,  300,  390,  223,  337, 1140,   90],\n",
       "       [ 480,  290,  380,  213,  327, 1130,   90],\n",
       "       [ 470,  280,  370,  203,  317, 1120,   90],\n",
       "       [ 460,  270,  360,  193,  307, 1110,   90],\n",
       "       [ 450,  260,  350,  183,  297, 1100,   90],\n",
       "       [ 440,  250,  340,  173,  287, 1090,   90],\n",
       "       [ 430,  240,  330,  163,  277, 1080,   90],\n",
       "       [ 420,  230,  320,  153,  267, 1070,   90],\n",
       "       [ 410,  220,  310,  143,  257, 1060,   90],\n",
       "       [ 400,  210,  300,  133,  247, 1050,   90],\n",
       "       [ 390,  200,  290,  123,  237, 1040,   90],\n",
       "       [ 380,  190,  280,  113,  227, 1030,   90],\n",
       "       [ 570,  285,  420,  170,  341, 1545,  135],\n",
       "       [ 855,  428,  630,  254,  511, 2318,  203],\n",
       "       [1283,  641,  945,  381,  766, 3476,  304],\n",
       "       [1183,  641,  945,  381,  766, 3426,  274],\n",
       "       [1133,  641,  945,  381,  766, 3376,  244],\n",
       "       [1133,  641,  945,  381,  766, 3376,  244]], dtype=int16)"
      ]
     },
     "execution_count": 12,
     "metadata": {},
     "output_type": "execute_result"
    }
   ],
   "source": [
    "file_data = np.genfromtxt(\"sales.csv\", delimiter = \",\")\n",
    "file_data = file_data.astype(\"int16\")\n",
    "\n",
    "data_only = file_data[1:, 1:],\n",
    "weeks = data_only[0] \n",
    "\n",
    "weeks"
   ]
  },
  {
   "cell_type": "markdown",
   "metadata": {},
   "source": [
    "### TO GET THE AVERAGE SALES FOR EACH WEEK"
   ]
  },
  {
   "cell_type": "code",
   "execution_count": 4,
   "metadata": {},
   "outputs": [
    {
     "name": "stdout",
     "output_type": "stream",
     "text": [
      "985.1428571428571\n",
      "980.1428571428571\n",
      "395.57142857142856\n",
      "397.57142857142856\n",
      "399.57142857142856\n",
      "401.57142857142856\n",
      "403.57142857142856\n",
      "405.57142857142856\n",
      "407.57142857142856\n",
      "409.57142857142856\n",
      "411.57142857142856\n",
      "413.57142857142856\n",
      "415.57142857142856\n",
      "417.57142857142856\n",
      "419.57142857142856\n",
      "421.57142857142856\n",
      "423.57142857142856\n",
      "467.14285714285717\n",
      "467.14285714285717\n",
      "467.14285714285717\n",
      "467.14285714285717\n",
      "467.14285714285717\n",
      "467.14285714285717\n",
      "467.14285714285717\n",
      "475.7142857142857\n",
      "467.14285714285717\n",
      "458.57142857142856\n",
      "450.0\n",
      "441.42857142857144\n",
      "432.85714285714283\n",
      "424.2857142857143\n",
      "415.7142857142857\n",
      "407.14285714285717\n",
      "398.57142857142856\n",
      "390.0\n",
      "381.42857142857144\n",
      "374.14285714285717\n",
      "366.85714285714283\n",
      "359.57142857142856\n",
      "352.2857142857143\n",
      "345.0\n",
      "337.7142857142857\n",
      "411.42857142857144\n",
      "522.7142857142857\n",
      "690.2857142857143\n",
      "1011.0\n",
      "991.5714285714286\n",
      "972.1428571428571\n",
      "1032.2857142857142\n",
      "1013.7142857142857\n",
      "995.1428571428571\n",
      "990.1428571428571\n",
      "985.1428571428571\n",
      "980.1428571428571\n",
      "606.8571428571429\n",
      "601.8571428571429\n",
      "596.8571428571429\n",
      "591.8571428571429\n",
      "586.8571428571429\n",
      "581.8571428571429\n",
      "576.8571428571429\n",
      "399.57142857142856\n",
      "401.57142857142856\n",
      "403.57142857142856\n",
      "405.57142857142856\n",
      "407.57142857142856\n",
      "409.57142857142856\n",
      "411.57142857142856\n",
      "413.57142857142856\n",
      "415.57142857142856\n",
      "417.57142857142856\n",
      "419.57142857142856\n",
      "421.57142857142856\n",
      "423.57142857142856\n",
      "467.14285714285717\n",
      "467.14285714285717\n",
      "467.14285714285717\n",
      "467.14285714285717\n",
      "467.14285714285717\n",
      "467.14285714285717\n",
      "467.14285714285717\n",
      "475.7142857142857\n",
      "467.14285714285717\n",
      "458.57142857142856\n",
      "450.0\n",
      "441.42857142857144\n",
      "432.85714285714283\n",
      "424.2857142857143\n",
      "415.7142857142857\n",
      "407.14285714285717\n",
      "398.57142857142856\n",
      "390.0\n",
      "381.42857142857144\n",
      "372.85714285714283\n",
      "364.2857142857143\n",
      "355.7142857142857\n",
      "347.14285714285717\n",
      "338.57142857142856\n",
      "330.0\n",
      "495.14285714285717\n",
      "742.7142857142857\n",
      "1113.7142857142858\n",
      "1088.0\n",
      "1069.4285714285713\n",
      "1069.4285714285713\n"
     ]
    }
   ],
   "source": [
    "for _ in weeks:\n",
    "    average_sales_weekly = np.average(_)\n",
    "    print(average_sales_weekly)\n",
    "   "
   ]
  },
  {
   "cell_type": "markdown",
   "metadata": {},
   "source": [
    "### TO GET THE TOTAL SALES FOR THE FIRST MONTH"
   ]
  },
  {
   "cell_type": "code",
   "execution_count": 5,
   "metadata": {},
   "outputs": [
    {
     "name": "stdout",
     "output_type": "stream",
     "text": [
      "19309\n"
     ]
    }
   ],
   "source": [
    "first_month = weeks[0:4]\n",
    "total_sales_first_month = np.sum(first_month)\n",
    "print(total_sales_first_month)"
   ]
  },
  {
   "cell_type": "markdown",
   "metadata": {},
   "source": [
    "### TO GET THE DAY WITH THE HIGHEST SALES IN THE THIRD MONTH"
   ]
  },
  {
   "cell_type": "code",
   "execution_count": 9,
   "metadata": {},
   "outputs": [
    {
     "data": {
      "text/plain": [
       "array([[501, 309, 407, 243, 438, 828,  71],\n",
       "       [503, 311, 409, 245, 440, 830,  73],\n",
       "       [505, 313, 411, 247, 442, 832,  75],\n",
       "       [507, 315, 413, 249, 444, 834,  77]], dtype=int16)"
      ]
     },
     "execution_count": 9,
     "metadata": {},
     "output_type": "execute_result"
    }
   ],
   "source": [
    "third_month = weeks[4:8]\n",
    "\n",
    "# highest_sales = np.max(third_month)\n",
    "# if highest_sales in third_month[:,0]:\n",
    "#     print(\"The day with the highest sales in the 3rd month is Monday\")\n",
    "# elif highest_sales in third_month[:,1]:\n",
    "#     print(\"The day with the highest sales in the 3rd month is Tuesday\")\n",
    "# elif highest_sales in third_month[:,2]:\n",
    "#     print(\"The day with the highest sales in the 3rd month is Wednesday\")\n",
    "# elif highest_sales in third_month[:,3]:\n",
    "#     print(\"The day with the highest sales in the 3rd month is Thursday\")\n",
    "# elif highest_sales in third_month[:,4]:\n",
    "#     print(\"The day with the highest sales in the 3rd month is Friday\")\n",
    "# elif highest_sales in third_month[:,5]:\n",
    "#     print(\"The day with the highest sales in the 3rd month is Saturday\")\n",
    "# elif highest_sales in third_month[:,6]:\n",
    "#     print(\"The day with the highest sales in the 3rd month is Sunday\")\n",
    "third_month"
   ]
  },
  {
   "cell_type": "markdown",
   "metadata": {},
   "source": [
    "### TO GET THE WEEKS OF THE MONTHS  WITH THE HIGHEST SALES "
   ]
  },
  {
   "cell_type": "code",
   "execution_count": 6,
   "metadata": {
    "scrolled": true
   },
   "outputs": [
    {
     "name": "stdout",
     "output_type": "stream",
     "text": [
      "The week with the highest sales in month 1 is WEEK 1\n",
      "The week with the highest sales in month 2 is WEEK 4\n",
      "The week with the highest sales in month 3 is WEEK 4\n",
      "The week with the highest sales in month 4 is WEEK 4\n",
      "The week with the highest sales in month 5 is WEEK 2\n",
      "The week with the highest sales in month 6 is WEEK 1\n",
      "The week with the highest sales in month 7 is WEEK 1\n",
      "The week with the highest sales in month 8 is WEEK 1\n",
      "The week with the highest sales in month 9 is WEEK 1\n",
      "The week with the highest sales in month 10 is WEEK 1\n",
      "The week with the highest sales in month 11 is WEEK 1\n",
      "The week with the highest sales in month 12 is WEEK 2\n",
      "The week with the highest sales in month 13 is WEEK 1\n",
      "The week with the highest sales in month 14 is WEEK 1\n",
      "The week with the highest sales in month 15 is WEEK 1\n",
      "The week with the highest sales in month 16 is WEEK 1\n",
      "The week with the highest sales in month 17 is WEEK 4\n",
      "The week with the highest sales in month 18 is WEEK 4\n",
      "The week with the highest sales in month 19 is WEEK 3\n",
      "The week with the highest sales in month 20 is WEEK 1\n",
      "The week with the highest sales in month 21 is WEEK 1\n",
      "The week with the highest sales in month 22 is WEEK 1\n",
      "The week with the highest sales in month 23 is WEEK 1\n",
      "The week with the highest sales in month 24 is WEEK 1\n",
      "The week with the highest sales in month 25 is WEEK 4\n",
      "The week with the highest sales in month 26 is WEEK 2\n",
      "The week with the highest sales in month 27 is WEEK 1\n"
     ]
    }
   ],
   "source": [
    "number_of_weeks = 0\n",
    "for _ in weeks:\n",
    "    number_of_weeks += 1\n",
    "\n",
    "number_of_months = \"{:.0f}\".format(number_of_weeks/4)    #in case number_of_weeks is not a multiple of 4\n",
    "\n",
    "    \n",
    "start = 0\n",
    "stop = 4\n",
    "count = 0\n",
    "for i in range(int(number_of_months) + 1):\n",
    "    months = weeks[start:stop]\n",
    "    start += 4\n",
    "    stop += 4\n",
    "    count +=1\n",
    "    \n",
    "    highest_sales = np.max(months)\n",
    "    if highest_sales in months[0]:\n",
    "        print(\"The week with the highest sales in month {} is WEEK 1\".format(count))\n",
    "    elif highest_sales in months[1]:\n",
    "        print(\"The week with the highest sales in month {} is WEEK 2\". format(count))\n",
    "    elif highest_sales in months[2]:\n",
    "        print(\"The week with the highest sales in month {} is WEEK 3\".format(count))\n",
    "    elif highest_sales in months[3]:\n",
    "        print(\"The week with the highest sales in month {} is WEEK 4\".format(count))\n",
    "\n"
   ]
  },
  {
   "cell_type": "code",
   "execution_count": 4,
   "metadata": {},
   "outputs": [
    {
     "data": {
      "text/plain": [
       "array([1, 2, 3, 4, 5, 6, 7, 8, 9])"
      ]
     },
     "execution_count": 4,
     "metadata": {},
     "output_type": "execute_result"
    }
   ],
   "source": [
    "np.array([1,2,3,4,5,6,7,8,9])"
   ]
  },
  {
   "cell_type": "code",
   "execution_count": 70,
   "metadata": {},
   "outputs": [
    {
     "name": "stdout",
     "output_type": "stream",
     "text": [
      "[[[4. 6. 8. 5.]\n",
      "  [2. 5. 7. 1.]\n",
      "  [3. 4. 6. 4.]]\n",
      "\n",
      " [[4. 6. 8. 5.]\n",
      "  [2. 5. 7. 1.]\n",
      "  [3. 4. 6. 4.]]]\n"
     ]
    },
    {
     "data": {
      "text/plain": [
       "(2, 3, 4)"
      ]
     },
     "execution_count": 70,
     "metadata": {},
     "output_type": "execute_result"
    }
   ],
   "source": [
    "new = np.array([[[4.0,6.0,8.0,5.0],[2.0,5.0,7.0,1.0],[3.0,4.0,6.0,4.0]], [[4.0,6.0,8.0,5.0],[2.0,5.0,7.0,1.0],[3.0,4.0,6.0,4.0]]])\n",
    "print(new)\n",
    "new.shape\n"
   ]
  },
  {
   "cell_type": "code",
   "execution_count": 60,
   "metadata": {},
   "outputs": [
    {
     "name": "stdout",
     "output_type": "stream",
     "text": [
      "[[1. 1. 1. 1. 1.]\n",
      " [1. 0. 0. 0. 1.]\n",
      " [1. 0. 9. 0. 1.]\n",
      " [1. 0. 0. 0. 1.]\n",
      " [1. 1. 1. 1. 1.]]\n"
     ]
    }
   ],
   "source": [
    "hey = np.ones((5,5))\n",
    "# hey = np.ones(shape = (5,5), dtype = \"float16\")\n",
    "hey[1:4, 1:4] = [0, 0, 0]\n",
    "hey[2,2] = 9\n",
    "print(hey)"
   ]
  },
  {
   "cell_type": "code",
   "execution_count": 81,
   "metadata": {},
   "outputs": [
    {
     "data": {
      "text/plain": [
       "23"
      ]
     },
     "execution_count": 81,
     "metadata": {},
     "output_type": "execute_result"
    }
   ],
   "source": [
    "sunday = np.array([3,5,6,1,8])\n",
    "np.average(sunday)\n",
    "np.sum(sunday)"
   ]
  },
  {
   "cell_type": "code",
   "execution_count": 74,
   "metadata": {},
   "outputs": [
    {
     "name": "stdout",
     "output_type": "stream",
     "text": [
      "[[3 6 4]\n",
      " [7 8 2]\n",
      " [5 9 3]]\n"
     ]
    },
    {
     "data": {
      "text/plain": [
       "array([6, 8, 9])"
      ]
     },
     "execution_count": 74,
     "metadata": {},
     "output_type": "execute_result"
    }
   ],
   "source": [
    "yeah = np.array([[3,6,4], [7,8,2], [5,9,3]])\n",
    "print(yeah)\n",
    "np.max(yeah, axis = 1)\n"
   ]
  }
 ],
 "metadata": {
  "kernelspec": {
   "display_name": "Python 3",
   "language": "python",
   "name": "python3"
  },
  "language_info": {
   "codemirror_mode": {
    "name": "ipython",
    "version": 3
   },
   "file_extension": ".py",
   "mimetype": "text/x-python",
   "name": "python",
   "nbconvert_exporter": "python",
   "pygments_lexer": "ipython3",
   "version": "3.6.4"
  }
 },
 "nbformat": 4,
 "nbformat_minor": 4
}
