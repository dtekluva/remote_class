{
 "cells": [
  {
   "cell_type": "code",
   "execution_count": 3,
   "metadata": {},
   "outputs": [],
   "source": [
    "import numpy as np"
   ]
  },
  {
   "cell_type": "markdown",
   "metadata": {},
   "source": [
    "# THE ASSIGNMENT STARTS HERE... PLEASE KINDLY UNCOMMENT EACH CELL TO RUN CODES"
   ]
  },
  {
   "cell_type": "markdown",
   "metadata": {},
   "source": [
    "### HERE, THE SALES.CSV FILE IS OPENED"
   ]
  },
  {
   "cell_type": "code",
   "execution_count": 185,
   "metadata": {},
   "outputs": [],
   "source": [
    "# file_data = np.genfromtxt(\"sales.csv\", delimiter = \",\")\n",
    "# file_data = file_data.astype(\"int16\")\n",
    "\n",
    "# data_only = file_data[1:, 1:],\n",
    "# weeks = data_only[0] \n",
    "\n",
    " "
   ]
  },
  {
   "cell_type": "markdown",
   "metadata": {},
   "source": [
    "### TO GET THE AVERAGE SALES FOR EACH WEEK"
   ]
  },
  {
   "cell_type": "code",
   "execution_count": 184,
   "metadata": {},
   "outputs": [],
   "source": [
    "# for _ in weeks:\n",
    "#     average_sales_weekly = np.average(_)\n",
    "#     print(average_sales_weekly)\n",
    "   "
   ]
  },
  {
   "cell_type": "markdown",
   "metadata": {},
   "source": [
    "### TO GET THE TOTAL SALES FOR THE FIRST MONTH"
   ]
  },
  {
   "cell_type": "code",
   "execution_count": 183,
   "metadata": {},
   "outputs": [],
   "source": [
    "# first_month = weeks[0:4]\n",
    "# total_sales_first_month = np.sum(first_month)\n",
    "# print(total_sales_first_month)"
   ]
  },
  {
   "cell_type": "markdown",
   "metadata": {},
   "source": [
    "### TO GET THE DAY WITH THE HIGHEST SALES IN THE THIRD MONTH"
   ]
  },
  {
   "cell_type": "code",
   "execution_count": 181,
   "metadata": {},
   "outputs": [],
   "source": [
    "# third_month = weeks[4:8]\n",
    "\n",
    "# highest_sales = np.max(third_month)\n",
    "# if highest_sales in third_month[:,0]:\n",
    "#     print(\"The day with the highest sales in the 3rd month is Monday\")\n",
    "# elif highest_sales in third_month[:,1]:\n",
    "#     print(\"The day with the highest sales in the 3rd month is Tuesday\")\n",
    "# elif highest_sales in third_month[:,2]:\n",
    "#     print(\"The day with the highest sales in the 3rd month is Wednesday\")\n",
    "# elif highest_sales in third_month[:,3]:\n",
    "#     print(\"The day with the highest sales in the 3rd month is Thursday\")\n",
    "# elif highest_sales in third_month[:,4]:\n",
    "#     print(\"The day with the highest sales in the 3rd month is Friday\")\n",
    "# elif highest_sales in third_month[:,5]:\n",
    "#     print(\"The day with the highest sales in the 3rd month is Saturday\")\n",
    "# elif highest_sales in third_month[:,6]:\n",
    "#     print(\"The day with the highest sales in the 3rd month is Sunday\")"
   ]
  },
  {
   "cell_type": "markdown",
   "metadata": {},
   "source": [
    "### TO GET THE WEEKS OF THE MONTHS  WITH THE HIGHEST SALES "
   ]
  },
  {
   "cell_type": "code",
   "execution_count": 182,
   "metadata": {
    "scrolled": true
   },
   "outputs": [],
   "source": [
    "# number_of_weeks = 0\n",
    "# for _ in weeks:\n",
    "#     number_of_weeks += 1\n",
    "\n",
    "# number_of_months = \"{:.0f}\".format(number_of_weeks/4)    #in case number_of_weeks is not a multiple of 4\n",
    "\n",
    "    \n",
    "# start = 0\n",
    "# stop = 4\n",
    "# count = 0\n",
    "# for i in range(int(number_of_months) + 1):\n",
    "#     months = weeks[start:stop]\n",
    "#     start += 4\n",
    "#     stop += 4\n",
    "#     count +=1\n",
    "    \n",
    "#     highest_sales = np.max(months)\n",
    "#     if highest_sales in months[0]:\n",
    "#         print(\"The week with the highest sales in month {} is WEEK 1\".format(count))\n",
    "#     elif highest_sales in months[1]:\n",
    "#         print(\"The week with the highest sales in month {} is WEEK 2\". format(count))\n",
    "#     elif highest_sales in months[2]:\n",
    "#         print(\"The week with the highest sales in month {} is WEEK 3\".format(count))\n",
    "#     elif highest_sales in months[3]:\n",
    "#         print(\"The week with the highest sales in month {} is WEEK 4\".format(count))\n",
    "\n"
   ]
  },
  {
   "cell_type": "code",
   "execution_count": 4,
   "metadata": {},
   "outputs": [
    {
     "data": {
      "text/plain": [
       "array([1, 2, 3, 4, 5, 6, 7, 8, 9])"
      ]
     },
     "execution_count": 4,
     "metadata": {},
     "output_type": "execute_result"
    }
   ],
   "source": [
    "np.array([1,2,3,4,5,6,7,8,9])"
   ]
  },
  {
   "cell_type": "code",
   "execution_count": 70,
   "metadata": {},
   "outputs": [
    {
     "name": "stdout",
     "output_type": "stream",
     "text": [
      "[[[4. 6. 8. 5.]\n",
      "  [2. 5. 7. 1.]\n",
      "  [3. 4. 6. 4.]]\n",
      "\n",
      " [[4. 6. 8. 5.]\n",
      "  [2. 5. 7. 1.]\n",
      "  [3. 4. 6. 4.]]]\n"
     ]
    },
    {
     "data": {
      "text/plain": [
       "(2, 3, 4)"
      ]
     },
     "execution_count": 70,
     "metadata": {},
     "output_type": "execute_result"
    }
   ],
   "source": [
    "new = np.array([[[4.0,6.0,8.0,5.0],[2.0,5.0,7.0,1.0],[3.0,4.0,6.0,4.0]], [[4.0,6.0,8.0,5.0],[2.0,5.0,7.0,1.0],[3.0,4.0,6.0,4.0]]])\n",
    "print(new)\n",
    "new.shape\n"
   ]
  },
  {
   "cell_type": "code",
   "execution_count": 60,
   "metadata": {},
   "outputs": [
    {
     "name": "stdout",
     "output_type": "stream",
     "text": [
      "[[1. 1. 1. 1. 1.]\n",
      " [1. 0. 0. 0. 1.]\n",
      " [1. 0. 9. 0. 1.]\n",
      " [1. 0. 0. 0. 1.]\n",
      " [1. 1. 1. 1. 1.]]\n"
     ]
    }
   ],
   "source": [
    "hey = np.ones((5,5))\n",
    "# hey = np.ones(shape = (5,5), dtype = \"float16\")\n",
    "hey[1:4, 1:4] = [0, 0, 0]\n",
    "hey[2,2] = 9\n",
    "print(hey)"
   ]
  },
  {
   "cell_type": "code",
   "execution_count": 81,
   "metadata": {},
   "outputs": [
    {
     "data": {
      "text/plain": [
       "23"
      ]
     },
     "execution_count": 81,
     "metadata": {},
     "output_type": "execute_result"
    }
   ],
   "source": [
    "sunday = np.array([3,5,6,1,8])\n",
    "np.average(sunday)\n",
    "np.sum(sunday)"
   ]
  },
  {
   "cell_type": "code",
   "execution_count": 74,
   "metadata": {},
   "outputs": [
    {
     "name": "stdout",
     "output_type": "stream",
     "text": [
      "[[3 6 4]\n",
      " [7 8 2]\n",
      " [5 9 3]]\n"
     ]
    },
    {
     "data": {
      "text/plain": [
       "array([6, 8, 9])"
      ]
     },
     "execution_count": 74,
     "metadata": {},
     "output_type": "execute_result"
    }
   ],
   "source": [
    "yeah = np.array([[3,6,4], [7,8,2], [5,9,3]])\n",
    "print(yeah)\n",
    "np.max(yeah, axis = 1)\n"
   ]
  }
 ],
 "metadata": {
  "kernelspec": {
   "display_name": "Python 3",
   "language": "python",
   "name": "python3"
  },
  "language_info": {
   "codemirror_mode": {
    "name": "ipython",
    "version": 3
   },
   "file_extension": ".py",
   "mimetype": "text/x-python",
   "name": "python",
   "nbconvert_exporter": "python",
   "pygments_lexer": "ipython3",
   "version": "3.7.6"
  }
 },
 "nbformat": 4,
 "nbformat_minor": 4
}
