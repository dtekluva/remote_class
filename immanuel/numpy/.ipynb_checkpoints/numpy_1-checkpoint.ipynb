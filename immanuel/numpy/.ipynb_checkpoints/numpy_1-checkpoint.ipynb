{
 "cells": [
  {
   "cell_type": "code",
   "execution_count": 3,
   "metadata": {},
   "outputs": [],
   "source": [
    "import numpy as np"
   ]
  },
  {
   "cell_type": "code",
   "execution_count": 12,
   "metadata": {},
   "outputs": [
    {
     "data": {
      "text/plain": [
       "array([[1, 2, 3, 4],\n",
       "       [6, 4, 5, 9]])"
      ]
     },
     "execution_count": 12,
     "metadata": {},
     "output_type": "execute_result"
    }
   ],
   "source": [
    "a = np.array([[1, 2, 3, 4], [6, 4, 5, 9]])\n",
    "(a)"
   ]
  },
  {
   "cell_type": "code",
   "execution_count": 13,
   "metadata": {},
   "outputs": [
    {
     "data": {
      "text/plain": [
       "array([3, 5])"
      ]
     },
     "execution_count": 13,
     "metadata": {},
     "output_type": "execute_result"
    }
   ],
   "source": [
    "a[:, 2]"
   ]
  },
  {
   "cell_type": "code",
   "execution_count": 8,
   "metadata": {},
   "outputs": [
    {
     "data": {
      "text/plain": [
       "array([[[0., 0., 0.],\n",
       "        [0., 0., 0.],\n",
       "        [0., 0., 0.]],\n",
       "\n",
       "       [[0., 0., 0.],\n",
       "        [0., 0., 0.],\n",
       "        [0., 0., 0.]]])"
      ]
     },
     "execution_count": 8,
     "metadata": {},
     "output_type": "execute_result"
    }
   ],
   "source": [
    "np.zeros((2, 3, 3))"
   ]
  },
  {
   "cell_type": "code",
   "execution_count": 104,
   "metadata": {},
   "outputs": [
    {
     "data": {
      "text/plain": [
       "array([[1., 1., 1., 1., 1.],\n",
       "       [1., 0., 0., 0., 1.],\n",
       "       [1., 0., 9., 0., 1.],\n",
       "       [1., 0., 0., 0., 1.],\n",
       "       [1., 1., 1., 1., 1.]])"
      ]
     },
     "execution_count": 104,
     "metadata": {},
     "output_type": "execute_result"
    }
   ],
   "source": [
    "#Assignment\n",
    "b = np.zeros((5, 5))\n",
    "b[0::4, :] = 1    #Selects only first and last rows, all columns, and write in 1.\n",
    "b[:, 0::4] = 1    #Selects all the rows, selects only column 1[0] and 5[4] and assigns a value of 1.\n",
    "b[2, 2] = 9       #Selects the row with index of 2, and colum with index of 2 and assigns 9.\n",
    "(b)"
   ]
  },
  {
   "cell_type": "code",
   "execution_count": 123,
   "metadata": {},
   "outputs": [
    {
     "data": {
      "text/plain": [
       "array([[1, 3, 4],\n",
       "       [2, 4, 6],\n",
       "       [2, 3, 4]])"
      ]
     },
     "execution_count": 123,
     "metadata": {},
     "output_type": "execute_result"
    }
   ],
   "source": [
    "b = np.array([[1, 3, 4], [2, 4, 6], [2, 3, 4]])\n",
    "b"
   ]
  },
  {
   "cell_type": "code",
   "execution_count": 124,
   "metadata": {},
   "outputs": [
    {
     "data": {
      "text/plain": [
       "1"
      ]
     },
     "execution_count": 124,
     "metadata": {},
     "output_type": "execute_result"
    }
   ],
   "source": [
    "np.min(b)   #This prints out the minimum value in the array stats."
   ]
  },
  {
   "cell_type": "code",
   "execution_count": 125,
   "metadata": {},
   "outputs": [
    {
     "data": {
      "text/plain": [
       "array([1, 3, 4])"
      ]
     },
     "execution_count": 125,
     "metadata": {},
     "output_type": "execute_result"
    }
   ],
   "source": [
    "np.min(b, axis=0)    #This prints out the least number in each row. "
   ]
  },
  {
   "cell_type": "code",
   "execution_count": 119,
   "metadata": {},
   "outputs": [
    {
     "data": {
      "text/plain": [
       "array([2, 4, 6])"
      ]
     },
     "execution_count": 119,
     "metadata": {},
     "output_type": "execute_result"
    }
   ],
   "source": [
    "np.max(b, axis=0)    #This prints out the maximum number in each row. "
   ]
  },
  {
   "cell_type": "code",
   "execution_count": 126,
   "metadata": {},
   "outputs": [
    {
     "data": {
      "text/plain": [
       "array([1, 2, 2])"
      ]
     },
     "execution_count": 126,
     "metadata": {},
     "output_type": "execute_result"
    }
   ],
   "source": [
    "np.min(b, axis=1)     #This prints out the least number in each column. "
   ]
  },
  {
   "cell_type": "code",
   "execution_count": 127,
   "metadata": {},
   "outputs": [
    {
     "data": {
      "text/plain": [
       "array([4, 6, 4])"
      ]
     },
     "execution_count": 127,
     "metadata": {},
     "output_type": "execute_result"
    }
   ],
   "source": [
    "np.max(b, axis=1)    #This prints out the maximum number in each column. "
   ]
  },
  {
   "cell_type": "code",
   "execution_count": 129,
   "metadata": {},
   "outputs": [
    {
     "data": {
      "text/plain": [
       "array([[ 1,  2,  3,  4,  5,  6],\n",
       "       [ 7,  8,  9, 10, 11, 12]])"
      ]
     },
     "execution_count": 129,
     "metadata": {},
     "output_type": "execute_result"
    }
   ],
   "source": [
    "c = np.array([[1, 2, 3, 4, 5, 6], [7, 8, 9, 10, 11, 12]])\n",
    "c"
   ]
  },
  {
   "cell_type": "code",
   "execution_count": 180,
   "metadata": {},
   "outputs": [
    {
     "data": {
      "text/plain": [
       "array([[ 1,  2],\n",
       "       [ 3,  4],\n",
       "       [ 5,  6],\n",
       "       [ 7,  8],\n",
       "       [ 9, 10],\n",
       "       [11, 12]])"
      ]
     },
     "execution_count": 180,
     "metadata": {},
     "output_type": "execute_result"
    }
   ],
   "source": [
    "d = c.reshape((6,2))\n",
    "d"
   ]
  },
  {
   "cell_type": "code",
   "execution_count": 193,
   "metadata": {},
   "outputs": [
    {
     "data": {
      "text/plain": [
       "array([[ 1,  2],\n",
       "       [ 5,  6],\n",
       "       [ 9, 10]])"
      ]
     },
     "execution_count": 193,
     "metadata": {},
     "output_type": "execute_result"
    }
   ],
   "source": [
    "d[0:6:2]    #Slicing the reshaped array starting from index 0 to the last index with 2 steps\n"
   ]
  },
  {
   "cell_type": "code",
   "execution_count": 200,
   "metadata": {},
   "outputs": [
    {
     "data": {
      "text/plain": [
       "array([86.68018561,  9.31983201, 55.70505875, 64.40682247, 24.22055038,\n",
       "       28.08869528, 73.20540684, 27.84473036, 68.62616893, 22.47892489,\n",
       "        6.89427162, 34.9654321 , 94.10771924, 57.6627134 , 94.86850044,\n",
       "        8.33423816, 92.40479573,  4.13037797, 71.5245418 , 24.93790561])"
      ]
     },
     "execution_count": 200,
     "metadata": {},
     "output_type": "execute_result"
    }
   ],
   "source": [
    "scores = np.random.rand(20,) * 100\n",
    "scores"
   ]
  },
  {
   "cell_type": "code",
   "execution_count": 199,
   "metadata": {},
   "outputs": [
    {
     "data": {
      "text/plain": [
       "array([78.49656171, 15.75922136, 28.17006528, 77.76027235, 72.70307379])"
      ]
     },
     "execution_count": 199,
     "metadata": {},
     "output_type": "execute_result"
    }
   ],
   "source": [
    "scores[[0, 7, 10, 12, 16]]    #mutiple indexing in numpy"
   ]
  },
  {
   "cell_type": "code",
   "execution_count": 202,
   "metadata": {},
   "outputs": [
    {
     "data": {
      "text/plain": [
       "array([ True, False,  True,  True, False, False,  True, False,  True,\n",
       "       False, False, False,  True,  True,  True, False,  True, False,\n",
       "        True, False])"
      ]
     },
     "execution_count": 202,
     "metadata": {},
     "output_type": "execute_result"
    }
   ],
   "source": [
    "#Boolean masking.\n",
    "#Finding score that are greater 50.\n",
    "#Displaying the scores as the boolean value\n",
    "\n",
    "gr_than = scores > 50\n",
    "gr_than    #Shows the boolean value"
   ]
  },
  {
   "cell_type": "code",
   "execution_count": 203,
   "metadata": {},
   "outputs": [
    {
     "data": {
      "text/plain": [
       "array([86.68018561, 55.70505875, 64.40682247, 73.20540684, 68.62616893,\n",
       "       94.10771924, 57.6627134 , 94.86850044, 92.40479573, 71.5245418 ])"
      ]
     },
     "execution_count": 203,
     "metadata": {},
     "output_type": "execute_result"
    }
   ],
   "source": [
    "#Masking the boolean value with the actual scores\n",
    "scores[gr_than]"
   ]
  },
  {
   "cell_type": "code",
   "execution_count": 207,
   "metadata": {},
   "outputs": [
    {
     "data": {
      "text/plain": [
       "array([ 9.31983201, 24.22055038, 28.08869528, 27.84473036, 22.47892489,\n",
       "        6.89427162, 34.9654321 , 94.10771924, 94.86850044,  8.33423816,\n",
       "       92.40479573,  4.13037797, 24.93790561])"
      ]
     },
     "execution_count": 207,
     "metadata": {},
     "output_type": "execute_result"
    }
   ],
   "source": [
    "scores[~((scores > 40) & (scores < 90))]    #~negative sign in numpy"
   ]
  },
  {
   "cell_type": "code",
   "execution_count": 4,
   "metadata": {},
   "outputs": [
    {
     "data": {
      "text/plain": [
       "array([[ 923,  631,  935,  371,  756, 3166,  114],\n",
       "       [ 918,  626,  930,  366,  751, 3161,  109],\n",
       "       [ 497,  305,  403,  239,  434,  824,   67],\n",
       "       [ 499,  307,  405,  241,  436,  826,   69],\n",
       "       [ 501,  309,  407,  243,  438,  828,   71],\n",
       "       [ 503,  311,  409,  245,  440,  830,   73],\n",
       "       [ 505,  313,  411,  247,  442,  832,   75],\n",
       "       [ 507,  315,  413,  249,  444,  834,   77],\n",
       "       [ 509,  317,  415,  251,  446,  836,   79],\n",
       "       [ 511,  319,  417,  253,  448,  838,   81],\n",
       "       [ 513,  321,  419,  255,  450,  840,   83],\n",
       "       [ 515,  323,  421,  257,  452,  842,   85],\n",
       "       [ 517,  325,  423,  259,  454,  844,   87],\n",
       "       [ 519,  327,  425,  261,  456,  846,   89],\n",
       "       [ 521,  329,  427,  263,  458,  848,   91],\n",
       "       [ 523,  331,  429,  265,  460,  850,   93],\n",
       "       [ 525,  333,  431,  267,  462,  852,   95],\n",
       "       [ 550,  360,  450,  283,  397, 1200,   30],\n",
       "       [ 550,  360,  450,  283,  397, 1200,   30],\n",
       "       [ 550,  360,  450,  283,  397, 1200,   30],\n",
       "       [ 550,  360,  450,  283,  397, 1200,   30],\n",
       "       [ 550,  360,  450,  283,  397, 1200,   30],\n",
       "       [ 550,  360,  450,  283,  397, 1200,   30],\n",
       "       [ 550,  360,  450,  283,  397, 1200,   30],\n",
       "       [ 550,  360,  450,  283,  397, 1200,   90],\n",
       "       [ 540,  350,  440,  273,  387, 1190,   90],\n",
       "       [ 530,  340,  430,  263,  377, 1180,   90],\n",
       "       [ 520,  330,  420,  253,  367, 1170,   90],\n",
       "       [ 510,  320,  410,  243,  357, 1160,   90],\n",
       "       [ 500,  310,  400,  233,  347, 1150,   90],\n",
       "       [ 490,  300,  390,  223,  337, 1140,   90],\n",
       "       [ 480,  290,  380,  213,  327, 1130,   90],\n",
       "       [ 470,  280,  370,  203,  317, 1120,   90],\n",
       "       [ 460,  270,  360,  193,  307, 1110,   90],\n",
       "       [ 450,  260,  350,  183,  297, 1100,   90],\n",
       "       [ 440,  250,  340,  173,  287, 1090,   90],\n",
       "       [ 430,  240,  330,  163,  281, 1085,   90],\n",
       "       [ 420,  230,  320,  153,  275, 1080,   90],\n",
       "       [ 410,  220,  310,  143,  269, 1075,   90],\n",
       "       [ 400,  210,  300,  133,  263, 1070,   90],\n",
       "       [ 390,  200,  290,  123,  257, 1065,   90],\n",
       "       [ 380,  190,  280,  113,  251, 1060,   90],\n",
       "       [ 570,  285,  420,  170,  245, 1055,  135],\n",
       "       [ 855,  428,  630,  254,  239, 1050,  203],\n",
       "       [1283,  641,  945,  381,  233, 1045,  304],\n",
       "       [1183,  641,  945,  381,  227, 3426,  274],\n",
       "       [1133,  641,  945,  381,  221, 3376,  244],\n",
       "       [1083,  641,  945,  381,  215, 3326,  214],\n",
       "       [1033,  641,  945,  381,  766, 3276,  184],\n",
       "       [ 983,  641,  945,  381,  766, 3226,  154],\n",
       "       [ 933,  641,  945,  381,  766, 3176,  124],\n",
       "       [ 928,  636,  940,  376,  761, 3171,  119],\n",
       "       [ 923,  631,  935,  371,  756, 3166,  114],\n",
       "       [ 918,  626,  930,  366,  751, 3161,  109],\n",
       "       [ 612,  421,  800,  200,  150, 2000,   65],\n",
       "       [ 607,  416,  795,  195,  145, 1995,   60],\n",
       "       [ 602,  411,  790,  190,  140, 1990,   55],\n",
       "       [ 597,  406,  785,  185,  135, 1985,   50],\n",
       "       [ 592,  401,  780,  180,  130, 1980,   45],\n",
       "       [ 587,  396,  775,  175,  125, 1975,   40],\n",
       "       [ 582,  391,  770,  170,  120, 1970,   35],\n",
       "       [ 501,  309,  407,  243,  438,  828,   71],\n",
       "       [ 503,  311,  409,  245,  440,  830,   73],\n",
       "       [ 505,  313,  411,  247,  442,  832,   75],\n",
       "       [ 507,  315,  413,  249,  444,  834,   77],\n",
       "       [ 509,  317,  415,  251,  446,  836,   79],\n",
       "       [ 511,  319,  417,  253,  448,  838,   81],\n",
       "       [ 513,  321,  419,  255,  450,  840,   83],\n",
       "       [ 515,  323,  421,  257,  452,  842,   85],\n",
       "       [ 517,  325,  423,  259,  454,  844,   87],\n",
       "       [ 519,  327,  425,  261,  456,  846,   89],\n",
       "       [ 521,  329,  427,  263,  458,  848,   91],\n",
       "       [ 523,  331,  429,  265,  460,  850,   93],\n",
       "       [ 525,  333,  431,  267,  462,  852,   95],\n",
       "       [ 550,  360,  450,  283,  397, 1200,   30],\n",
       "       [ 550,  360,  450,  283,  397, 1200,   30],\n",
       "       [ 550,  360,  450,  283,  397, 1200,   30],\n",
       "       [ 550,  360,  450,  283,  397, 1200,   30],\n",
       "       [ 550,  360,  450,  283,  397, 1200,   30],\n",
       "       [ 550,  360,  450,  283,  397, 1200,   30],\n",
       "       [ 550,  360,  450,  283,  397, 1200,   30],\n",
       "       [ 550,  360,  450,  283,  397, 1200,   90],\n",
       "       [ 540,  350,  440,  273,  387, 1190,   90],\n",
       "       [ 530,  340,  430,  263,  377, 1180,   90],\n",
       "       [ 520,  330,  420,  253,  367, 1170,   90],\n",
       "       [ 510,  320,  410,  243,  357, 1160,   90],\n",
       "       [ 500,  310,  400,  233,  347, 1150,   90],\n",
       "       [ 490,  300,  390,  223,  337, 1140,   90],\n",
       "       [ 480,  290,  380,  213,  327, 1130,   90],\n",
       "       [ 470,  280,  370,  203,  317, 1120,   90],\n",
       "       [ 460,  270,  360,  193,  307, 1110,   90],\n",
       "       [ 450,  260,  350,  183,  297, 1100,   90],\n",
       "       [ 440,  250,  340,  173,  287, 1090,   90],\n",
       "       [ 430,  240,  330,  163,  277, 1080,   90],\n",
       "       [ 420,  230,  320,  153,  267, 1070,   90],\n",
       "       [ 410,  220,  310,  143,  257, 1060,   90],\n",
       "       [ 400,  210,  300,  133,  247, 1050,   90],\n",
       "       [ 390,  200,  290,  123,  237, 1040,   90],\n",
       "       [ 380,  190,  280,  113,  227, 1030,   90],\n",
       "       [ 570,  285,  420,  170,  341, 1545,  135],\n",
       "       [ 855,  428,  630,  254,  511, 2318,  203],\n",
       "       [1283,  641,  945,  381,  766, 3476,  304],\n",
       "       [1183,  641,  945,  381,  766, 3426,  274],\n",
       "       [1133,  641,  945,  381,  766, 3376,  244],\n",
       "       [1133,  641,  945,  381,  766, 3376,  244]], dtype=int64)"
      ]
     },
     "execution_count": 4,
     "metadata": {},
     "output_type": "execute_result"
    }
   ],
   "source": [
    "#ASSIGNMENT\n",
    "#Reading a csv file in numpy.\n",
    "import csv\n",
    "docs = np.genfromtxt(\"sales.csv\", delimiter=\",\", dtype=\"int64\", skip_header=1)\n",
    "k = docs[:, 1:8]    #slicing off the index from the csv file\n",
    "k"
   ]
  },
  {
   "cell_type": "code",
   "execution_count": 381,
   "metadata": {},
   "outputs": [
    {
     "data": {
      "text/plain": [
       "[985.1428571428571,\n",
       " 980.1428571428571,\n",
       " 395.57142857142856,\n",
       " 397.57142857142856,\n",
       " 399.57142857142856,\n",
       " 401.57142857142856,\n",
       " 403.57142857142856,\n",
       " 405.57142857142856,\n",
       " 407.57142857142856,\n",
       " 409.57142857142856,\n",
       " 411.57142857142856,\n",
       " 413.57142857142856,\n",
       " 415.57142857142856,\n",
       " 417.57142857142856,\n",
       " 419.57142857142856,\n",
       " 421.57142857142856,\n",
       " 423.57142857142856,\n",
       " 467.14285714285717,\n",
       " 467.14285714285717,\n",
       " 467.14285714285717,\n",
       " 467.14285714285717,\n",
       " 467.14285714285717,\n",
       " 467.14285714285717,\n",
       " 467.14285714285717,\n",
       " 475.7142857142857,\n",
       " 467.14285714285717,\n",
       " 458.57142857142856,\n",
       " 450.0,\n",
       " 441.42857142857144,\n",
       " 432.85714285714283,\n",
       " 424.2857142857143,\n",
       " 415.7142857142857,\n",
       " 407.14285714285717,\n",
       " 398.57142857142856,\n",
       " 390.0,\n",
       " 381.42857142857144,\n",
       " 374.14285714285717,\n",
       " 366.85714285714283,\n",
       " 359.57142857142856,\n",
       " 352.2857142857143,\n",
       " 345.0,\n",
       " 337.7142857142857,\n",
       " 411.42857142857144,\n",
       " 522.7142857142857,\n",
       " 690.2857142857143,\n",
       " 1011.0,\n",
       " 991.5714285714286,\n",
       " 972.1428571428571,\n",
       " 1032.2857142857142,\n",
       " 1013.7142857142857,\n",
       " 995.1428571428571,\n",
       " 990.1428571428571,\n",
       " 985.1428571428571,\n",
       " 980.1428571428571,\n",
       " 606.8571428571429,\n",
       " 601.8571428571429,\n",
       " 596.8571428571429,\n",
       " 591.8571428571429,\n",
       " 586.8571428571429,\n",
       " 581.8571428571429,\n",
       " 576.8571428571429,\n",
       " 399.57142857142856,\n",
       " 401.57142857142856,\n",
       " 403.57142857142856,\n",
       " 405.57142857142856,\n",
       " 407.57142857142856,\n",
       " 409.57142857142856,\n",
       " 411.57142857142856,\n",
       " 413.57142857142856,\n",
       " 415.57142857142856,\n",
       " 417.57142857142856,\n",
       " 419.57142857142856,\n",
       " 421.57142857142856,\n",
       " 423.57142857142856,\n",
       " 467.14285714285717,\n",
       " 467.14285714285717,\n",
       " 467.14285714285717,\n",
       " 467.14285714285717,\n",
       " 467.14285714285717,\n",
       " 467.14285714285717,\n",
       " 467.14285714285717,\n",
       " 475.7142857142857,\n",
       " 467.14285714285717,\n",
       " 458.57142857142856,\n",
       " 450.0,\n",
       " 441.42857142857144,\n",
       " 432.85714285714283,\n",
       " 424.2857142857143,\n",
       " 415.7142857142857,\n",
       " 407.14285714285717,\n",
       " 398.57142857142856,\n",
       " 390.0,\n",
       " 381.42857142857144,\n",
       " 372.85714285714283,\n",
       " 364.2857142857143,\n",
       " 355.7142857142857,\n",
       " 347.14285714285717,\n",
       " 338.57142857142856,\n",
       " 330.0,\n",
       " 495.14285714285717,\n",
       " 742.7142857142857,\n",
       " 1113.7142857142858,\n",
       " 1088.0,\n",
       " 1069.4285714285713,\n",
       " 1069.4285714285713]"
      ]
     },
     "execution_count": 381,
     "metadata": {},
     "output_type": "execute_result"
    }
   ],
   "source": [
    "#Average sales per week\n",
    "new_doc = []\n",
    "for row in k:\n",
    "    new_doc.append(np.sum(row)/7)\n",
    "new_doc "
   ]
  },
  {
   "cell_type": "code",
   "execution_count": 379,
   "metadata": {},
   "outputs": [
    {
     "data": {
      "text/plain": [
       "19309"
      ]
     },
     "execution_count": 379,
     "metadata": {},
     "output_type": "execute_result"
    }
   ],
   "source": [
    "#Total sales for the first month\n",
    "d = []\n",
    "for row in k:\n",
    "    d.append(np.sum(row))\n",
    "np.sum(d[0:4])\n"
   ]
  },
  {
   "cell_type": "code",
   "execution_count": 6,
   "metadata": {},
   "outputs": [
    {
     "data": {
      "text/plain": [
       "842"
      ]
     },
     "execution_count": 6,
     "metadata": {},
     "output_type": "execute_result"
    }
   ],
   "source": [
    "#The day with the highest sales in the 3rd month\n",
    "g = k[8:12]\n",
    "np.max(g)    #saturday"
   ]
  },
  {
   "cell_type": "code",
   "execution_count": 435,
   "metadata": {},
   "outputs": [
    {
     "data": {
      "text/plain": [
       "array([[   0,    1,    2,    3,    4,    5,    6,    7,    8,    9,   10,\n",
       "          11,   12,   13,   14,   15,   16,   17,   18,   19,   20,   21,\n",
       "          22,   23,   24,   25,   26,   27,   28,   29,   30,   31,   32,\n",
       "          33,   34,   35,   36,   37,   38,   39,   40,   41,   42,   43,\n",
       "          44,   45,   46,   47,   48,   49,   50,   51,   52,   53,   54,\n",
       "          55,   56,   57,   58,   59,   60,   61,   62,   63,   64,   65,\n",
       "          66,   67,   68,   69,   70,   71,   72,   73,   74,   75,   76,\n",
       "          77,   78,   79,   80,   81,   82,   83,   84,   85,   86,   87,\n",
       "          88,   89,   90,   91,   92,   93,   94,   95,   96,   97,   98,\n",
       "          99,  100,  101,  102,  103,  104],\n",
       "       [6896, 6861, 2769, 2783, 2797, 2811, 2825, 2839, 2853, 2867, 2881,\n",
       "        2895, 2909, 2923, 2937, 2951, 2965, 3270, 3270, 3270, 3270, 3270,\n",
       "        3270, 3270, 3330, 3270, 3210, 3150, 3090, 3030, 2970, 2910, 2850,\n",
       "        2790, 2730, 2670, 2619, 2568, 2517, 2466, 2415, 2364, 2880, 3659,\n",
       "        4832, 7077, 6941, 6805, 7226, 7096, 6966, 6931, 6896, 6861, 4248,\n",
       "        4213, 4178, 4143, 4108, 4073, 4038, 2797, 2811, 2825, 2839, 2853,\n",
       "        2867, 2881, 2895, 2909, 2923, 2937, 2951, 2965, 3270, 3270, 3270,\n",
       "        3270, 3270, 3270, 3270, 3330, 3270, 3210, 3150, 3090, 3030, 2970,\n",
       "        2910, 2850, 2790, 2730, 2670, 2610, 2550, 2490, 2430, 2370, 2310,\n",
       "        3466, 5199, 7796, 7616, 7486, 7486]], dtype=int64)"
      ]
     },
     "execution_count": 435,
     "metadata": {},
     "output_type": "execute_result"
    }
   ],
   "source": [
    "#What week of the month has the highest sales volume\n",
    "a = []\n",
    "b = []\n",
    "for i, e in enumerate(k):\n",
    "    a.append(np.sum(e))\n",
    "    b.append(i)\n",
    "np.vstack((b, a))\n"
   ]
  },
  {
   "cell_type": "code",
   "execution_count": 440,
   "metadata": {},
   "outputs": [
    {
     "data": {
      "text/plain": [
       "7796"
      ]
     },
     "execution_count": 440,
     "metadata": {},
     "output_type": "execute_result"
    }
   ],
   "source": [
    "np.max((a))\n",
    "#week 101 has the highest sales"
   ]
  },
  {
   "cell_type": "code",
   "execution_count": null,
   "metadata": {},
   "outputs": [],
   "source": []
  },
  {
   "cell_type": "code",
   "execution_count": null,
   "metadata": {},
   "outputs": [],
   "source": []
  }
 ],
 "metadata": {
  "kernelspec": {
   "display_name": "Python 3",
   "language": "python",
   "name": "python3"
  },
  "language_info": {
   "codemirror_mode": {
    "name": "ipython",
    "version": 3
   },
   "file_extension": ".py",
   "mimetype": "text/x-python",
   "name": "python",
   "nbconvert_exporter": "python",
   "pygments_lexer": "ipython3",
   "version": "3.8.1"
  }
 },
 "nbformat": 4,
 "nbformat_minor": 4
}
