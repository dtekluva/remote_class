{
 "cells": [
  {
   "cell_type": "code",
   "execution_count": 1,
   "metadata": {},
   "outputs": [],
   "source": [
    "import numpy as np"
   ]
  },
  {
   "cell_type": "code",
   "execution_count": 2,
   "metadata": {},
   "outputs": [],
   "source": [
    "mat = np.array([1, 2, 3])"
   ]
  },
  {
   "cell_type": "code",
   "execution_count": 109,
   "metadata": {},
   "outputs": [
    {
     "data": {
      "text/plain": [
       "array([1, 3, 7])"
      ]
     },
     "execution_count": 109,
     "metadata": {},
     "output_type": "execute_result"
    }
   ],
   "source": [
    "mat = np.array([1])\n",
    "mat = list(mat)\n",
    "x = 0\n",
    "while x < 30 and mat[-1] !=7:\n",
    "    \n",
    "    randnum = np.random.randint(1,10)\n",
    "    \n",
    "    mat.append(randnum)\n",
    "    x +=1\n",
    "mat = np.array(mat)\n",
    "(mat)"
   ]
  },
  {
   "cell_type": "code",
   "execution_count": 47,
   "metadata": {},
   "outputs": [
    {
     "data": {
      "text/plain": [
       "4.239130434782608"
      ]
     },
     "execution_count": 47,
     "metadata": {},
     "output_type": "execute_result"
    }
   ],
   "source": [
    "np.matrix(mat).mean()"
   ]
  },
  {
   "cell_type": "code",
   "execution_count": 131,
   "metadata": {},
   "outputs": [],
   "source": [
    "a = np.array([ 8.,3.,10.,8.,2.,2.,10.,10.,5.,10.,2.,10.,9.,10.,9.,4.,2.,8.,7.,4.,1.,4.,5.,6.,6.])"
   ]
  },
  {
   "cell_type": "code",
   "execution_count": 133,
   "metadata": {},
   "outputs": [],
   "source": [
    "a = a.reshape(5,5)"
   ]
  },
  {
   "cell_type": "code",
   "execution_count": 134,
   "metadata": {},
   "outputs": [
    {
     "data": {
      "text/plain": [
       "(5, 5)"
      ]
     },
     "execution_count": 134,
     "metadata": {},
     "output_type": "execute_result"
    }
   ],
   "source": [
    "a.shape"
   ]
  },
  {
   "cell_type": "code",
   "execution_count": 137,
   "metadata": {
    "scrolled": true
   },
   "outputs": [
    {
     "name": "stdout",
     "output_type": "stream",
     "text": [
      "8.0\n",
      "hurray\n",
      "3.0\n",
      "10.0\n",
      "8.0\n",
      "hurray\n",
      "2.0\n",
      "2.0\n",
      "10.0\n",
      "10.0\n",
      "5.0\n",
      "10.0\n",
      "2.0\n",
      "10.0\n",
      "9.0\n",
      "10.0\n",
      "9.0\n",
      "4.0\n",
      "2.0\n",
      "8.0\n",
      "hurray\n",
      "7.0\n",
      "4.0\n",
      "1.0\n",
      "4.0\n",
      "5.0\n",
      "6.0\n",
      "6.0\n"
     ]
    }
   ],
   "source": [
    "for item in a.flat:\n",
    "    print(item)\n",
    "    if item == 8.0:\n",
    "        print(\"hurray\")"
   ]
  },
  {
   "cell_type": "code",
   "execution_count": 138,
   "metadata": {},
   "outputs": [],
   "source": [
    "A = np.matrix([1,2,3,4,5,6,7,8,9], dtype=\"float\")\n",
    "x = np.matrix([1,2,3])\n",
    "B = np.matrix([-0.1, -0.2, -0.3, 3, 10, 2, 4, 2, 0.5])"
   ]
  },
  {
   "cell_type": "code",
   "execution_count": 140,
   "metadata": {},
   "outputs": [],
   "source": [
    "A.shape = (3,3)\n",
    "B.shape = (3,3)"
   ]
  },
  {
   "cell_type": "code",
   "execution_count": 141,
   "metadata": {},
   "outputs": [
    {
     "data": {
      "text/plain": [
       "matrix([[17.9, 25.8,  5.2],\n",
       "        [38.6, 61.2, 11.8],\n",
       "        [59.3, 96.6, 18.4]])"
      ]
     },
     "execution_count": 141,
     "metadata": {},
     "output_type": "execute_result"
    }
   ],
   "source": [
    "A * B"
   ]
  },
  {
   "cell_type": "code",
   "execution_count": 142,
   "metadata": {},
   "outputs": [
    {
     "data": {
      "text/plain": [
       "matrix([[17.9, 25.8,  5.2],\n",
       "        [38.6, 61.2, 11.8],\n",
       "        [59.3, 96.6, 18.4]])"
      ]
     },
     "execution_count": 142,
     "metadata": {},
     "output_type": "execute_result"
    }
   ],
   "source": [
    "A.dot(B)"
   ]
  },
  {
   "cell_type": "code",
   "execution_count": 144,
   "metadata": {},
   "outputs": [
    {
     "data": {
      "text/plain": [
       "array([[ 1.11022302e-16, -5.55111512e-17,  0.00000000e+00],\n",
       "       [-5.00000000e+01,  1.00000000e+01,  2.50000000e+01],\n",
       "       [-1.40000000e+01,  3.25000000e+01, -1.80000000e+01]])"
      ]
     },
     "execution_count": 144,
     "metadata": {},
     "output_type": "execute_result"
    }
   ],
   "source": [
    "np.cross(A,B)"
   ]
  },
  {
   "cell_type": "code",
   "execution_count": null,
   "metadata": {},
   "outputs": [],
   "source": []
  }
 ],
 "metadata": {
  "kernelspec": {
   "display_name": "Python 3",
   "language": "python",
   "name": "python3"
  },
  "language_info": {
   "codemirror_mode": {
    "name": "ipython",
    "version": 3
   },
   "file_extension": ".py",
   "mimetype": "text/x-python",
   "name": "python",
   "nbconvert_exporter": "python",
   "pygments_lexer": "ipython3",
   "version": "3.7.0"
  }
 },
 "nbformat": 4,
 "nbformat_minor": 2
}
